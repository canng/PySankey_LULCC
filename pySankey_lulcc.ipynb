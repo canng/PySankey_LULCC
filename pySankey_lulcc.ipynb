{
 "cells": [
  {
   "cell_type": "code",
   "execution_count": 17,
   "metadata": {},
   "outputs": [],
   "source": [
    "import rasterio\n",
    "import numpy as np\n",
    "import pandas as pd\n",
    "import plotly.graph_objects as go\n",
    "import colorsys\n",
    "\n",
    "from geonate import raster, tools"
   ]
  },
  {
   "cell_type": "markdown",
   "metadata": {},
   "source": [
    "### Define critical functions"
   ]
  },
  {
   "cell_type": "code",
   "execution_count": 18,
   "metadata": {},
   "outputs": [],
   "source": [
    "# Create change matrix for all periods\n",
    "\n",
    "def create_change_matrix(input): \n",
    "    # Create an empty dataframe\n",
    "    change_matrix = pd.DataFrame(columns=['source', 'target', 'value',  'type'])\n",
    "\n",
    "    # Run over each period (pairs of years)\n",
    "    for x in range(0, len(input)-1):\n",
    "        before_path = input[x]\n",
    "        after_path = input[x+1]\n",
    "\n",
    "        with rasterio.open(before_path) as img_before, rasterio.open(after_path) as img_after:\n",
    "            if (img_before.count != 1) | (img_after.count != 1):\n",
    "                raise ValueError('Images must be single band')\n",
    "            else:\n",
    "                # Read the data as a 1D array and mask no data values\n",
    "                data_before = img_before.read(1)\n",
    "                data_after = img_after.read(1)\n",
    "\n",
    "                # Check if the metadata is the same\n",
    "                if ((img_before.crs != img_after.crs) & (img_before.transform != img_after.transform) & (img_before.width != img_after.width) & (img_before.height != img_after.height) & (img_before.res != img_after.res)):        \n",
    "                    raise ValueError('Images must have the same metadata')\n",
    "                else:\n",
    "                    # Adjust no data values\n",
    "                    valid_mask = (data_after > 0) & (data_before > 0)   \n",
    "                    data_before = data_before[valid_mask]\n",
    "                    data_after =   data_after[valid_mask]\n",
    "\n",
    "                    # stack the data together as pairs [before, after]\n",
    "                    data_stack = np.stack((data_before, data_after), axis=1)\n",
    "\n",
    "                    # count the unique pairs in row > axis= 0 is row\n",
    "                    unique, counts = np.unique(data_stack, axis=0, return_counts=True)\n",
    "\n",
    "                    # Calculate area in hectares based on image resolution\n",
    "                    areas = counts * img_before.res[0] * img_before.res[1] / 10000\n",
    "                    \n",
    "                    # Create a dataframe of transitions\n",
    "                    transition = pd.DataFrame(unique, columns=['source', 'target'])\n",
    "                    transition['value'] = areas\n",
    "                    transition['type'] = years[x+1] # the year of the end of period\n",
    "                    \n",
    "                    # Combine data\n",
    "                    change_matrix = pd.concat([change_matrix, transition], axis=0).reset_index(drop=True)\n",
    "    \n",
    "    return change_matrix\n",
    "\n",
    "\n",
    "# Create link data for Sankey\n",
    "def create_sankey_links(transitions, node_indices, offset):\n",
    "    \n",
    "    # Function to modify color brightness\n",
    "    def adjust_brightness(hex_color, factor=1):\n",
    "        \"\"\"Adjust the brightness of a hex color.\"\"\"\n",
    "        try:\n",
    "            # \n",
    "            rgb = tuple(int(hex_color[i:i+2], 16) for i in (1, 3, 5))\n",
    "            h, l, s = colorsys.rgb_to_hls(rgb[0]/255, rgb[1]/255, rgb[2]/255)\n",
    "            l = min(1, max(0, l * factor))  # Adjust lightness\n",
    "            r, g, b = colorsys.hls_to_rgb(h, l, s)\n",
    "            return f'#{int(r*255):02x}{int(g*255):02x}{int(b*255):02x}'\n",
    "        except Exception as e:\n",
    "            print(f\"Error adjusting brightness for color: {hex_color}\")\n",
    "            raise e\n",
    "        \n",
    "    # Function to calculate link colors\n",
    "    def get_link_color(source, target):\n",
    "        try:\n",
    "            base_color = landuse_colors[source]\n",
    "            if source == target:\n",
    "                return base_color  # Same-to-same retains the source color\n",
    "            else:\n",
    "                # Slightly adjust the brightness for different target types\n",
    "                return adjust_brightness(base_color, factor= 1.15)\n",
    "        except KeyError as e:\n",
    "            print(f\"Invalid land use type in source/target: {source}, {target}\")\n",
    "            raise e\n",
    "\n",
    "    # ********************************************************* #   \n",
    "    # Main function\n",
    "    links = {\n",
    "        'source': [],\n",
    "        'target': [],\n",
    "        'value': [],\n",
    "        'color': []  # Link colors\n",
    "    }\n",
    "    for _, row in transitions.iterrows():\n",
    "        # Ensure the values are valid indices\n",
    "        from_idx = int(row['source']) - 1\n",
    "        to_idx = int(row['target']) - 1\n",
    "\n",
    "        if from_idx not in range(len(nodes)) or to_idx not in range(len(nodes)):\n",
    "            print(f\"Skipping invalid transition: source={row['source']}, target={row['target']}\")\n",
    "            continue\n",
    "\n",
    "        source = node_indices[nodes[from_idx]] + offset\n",
    "        target = node_indices[nodes[to_idx]] + offset + len(nodes)\n",
    "        links['source'].append(source)\n",
    "        links['target'].append(target)\n",
    "        links['value'].append(row['value'])\n",
    "        \n",
    "        # Debug: Ensure source_label and target_label exist\n",
    "        try:\n",
    "            source_label = nodes[from_idx]\n",
    "            target_label = nodes[to_idx]\n",
    "        except IndexError:\n",
    "            print(f\"IndexError: from_idx={from_idx}, to_idx={to_idx}\")\n",
    "            raise\n",
    "\n",
    "        # Assign color to the link based on source and target land use\n",
    "        links['color'].append(get_link_color(source_label, target_label))\n",
    "    \n",
    "    return links"
   ]
  },
  {
   "cell_type": "markdown",
   "metadata": {},
   "source": [
    "### Example"
   ]
  },
  {
   "cell_type": "markdown",
   "metadata": {},
   "source": [
    "#### Define and calculate paramters"
   ]
  },
  {
   "cell_type": "code",
   "execution_count": 19,
   "metadata": {},
   "outputs": [
    {
     "name": "stderr",
     "output_type": "stream",
     "text": [
      "C:\\Users\\czpnguyenc\\AppData\\Local\\Temp\\ipykernel_22572\\1781400516.py:44: FutureWarning:\n",
      "\n",
      "The behavior of DataFrame concatenation with empty or all-NA entries is deprecated. In a future version, this will no longer exclude empty or all-NA columns when determining the result dtypes. To retain the old behavior, exclude the relevant entries before the concat operation.\n",
      "\n"
     ]
    }
   ],
   "source": [
    "input = tools.list_files('data/', '*tif')\n",
    "input.sort()\n",
    "\n",
    "years = [1990, 2000, 2010, 2020]\n",
    "\n",
    "# Create change matrix\n",
    "change_matrix = create_change_matrix(input)\n",
    "\n",
    "# Calculate transitions for each period\n",
    "transitions_1990_2000 = change_matrix[change_matrix['type'] == 2000]\n",
    "transitions_2000_2010 = change_matrix[change_matrix['type'] == 2010]\n",
    "transitions_2010_2020 = change_matrix[change_matrix['type'] == 2020]\n",
    "\n",
    "# Define nodes of land use, values, and colors\n",
    "nodes = ['BAR', 'URBN', 'FOR', 'AGR', 'WAT']\n",
    "values = np.sort(np.unique(change_matrix['source']))-1\n",
    "colors = [\n",
    "    '#ebab34', # Barren\n",
    "    '#f37f6b', # Urban\n",
    "    '#4c7300', # Forest\n",
    "    '#faef7d', # Agriculture\n",
    "    '#74b3ff' # Water\n",
    "]\n",
    "\n",
    "node_indices = {node:value for node, value in zip(nodes, values)}\n",
    "landuse_colors = {node:color for node, color in zip(nodes, colors)}    \n",
    "\n",
    "# Create Sankey links\n",
    "links_1990_2000 = create_sankey_links(transitions_1990_2000, node_indices, 0)\n",
    "links_2000_2010 = create_sankey_links(transitions_2000_2010, node_indices, len(nodes)*1)\n",
    "links_2010_2020 = create_sankey_links(transitions_2010_2020, node_indices, len(nodes)*2)\n",
    "\n",
    "# Combine links\n",
    "links = {\n",
    "    'source': links_1990_2000['source'] + links_2000_2010['source'] + links_2010_2020['source'],\n",
    "    'target': links_1990_2000['target'] + links_2000_2010['target'] + links_2010_2020['target'],\n",
    "    'value': links_1990_2000['value'] + links_2000_2010['value'] + links_2010_2020['value'],\n",
    "    'color': links_1990_2000['color'] + links_2000_2010['color'] + links_2010_2020['color']\n",
    "}\n",
    "\n",
    "# Define consistent node colors based on land use\n",
    "node_colors = [landuse_colors[node] for node in nodes] * len(years)  # Repeat colors for each year\n"
   ]
  },
  {
   "cell_type": "markdown",
   "metadata": {},
   "source": [
    "#### Create Sankey plot"
   ]
  },
  {
   "cell_type": "code",
   "execution_count": 20,
   "metadata": {},
   "outputs": [
    {
     "data": {
      "application/vnd.plotly.v1+json": {
       "config": {
        "plotlyServerURL": "https://plot.ly"
       },
       "data": [
        {
         "link": {
          "color": [
           "#ebab34",
           "#eebb5b",
           "#eebb5b",
           "#eebb5b",
           "#eebb5b",
           "#f6a89b",
           "#f37f6b",
           "#f6a89b",
           "#f6a89b",
           "#f6a89b",
           "#578400",
           "#578400",
           "#4c7300",
           "#578400",
           "#578400",
           "#fcf5b3",
           "#fcf5b3",
           "#fcf5b3",
           "#faef7d",
           "#fcf5b3",
           "#abd1ff",
           "#abd1ff",
           "#abd1ff",
           "#abd1ff",
           "#74b3ff",
           "#ebab34",
           "#eebb5b",
           "#eebb5b",
           "#eebb5b",
           "#eebb5b",
           "#f6a89b",
           "#f37f6b",
           "#f6a89b",
           "#f6a89b",
           "#f6a89b",
           "#578400",
           "#578400",
           "#4c7300",
           "#578400",
           "#578400",
           "#fcf5b3",
           "#fcf5b3",
           "#fcf5b3",
           "#faef7d",
           "#fcf5b3",
           "#abd1ff",
           "#abd1ff",
           "#abd1ff",
           "#abd1ff",
           "#74b3ff",
           "#ebab34",
           "#eebb5b",
           "#eebb5b",
           "#eebb5b",
           "#eebb5b",
           "#f6a89b",
           "#f37f6b",
           "#f6a89b",
           "#f6a89b",
           "#f6a89b",
           "#578400",
           "#578400",
           "#4c7300",
           "#578400",
           "#578400",
           "#fcf5b3",
           "#fcf5b3",
           "#fcf5b3",
           "#faef7d",
           "#fcf5b3",
           "#abd1ff",
           "#abd1ff",
           "#abd1ff",
           "#abd1ff",
           "#74b3ff"
          ],
          "source": [
           0,
           0,
           0,
           0,
           0,
           1,
           1,
           1,
           1,
           1,
           2,
           2,
           2,
           2,
           2,
           3,
           3,
           3,
           3,
           3,
           4,
           4,
           4,
           4,
           4,
           5,
           5,
           5,
           5,
           5,
           6,
           6,
           6,
           6,
           6,
           7,
           7,
           7,
           7,
           7,
           8,
           8,
           8,
           8,
           8,
           9,
           9,
           9,
           9,
           9,
           10,
           10,
           10,
           10,
           10,
           11,
           11,
           11,
           11,
           11,
           12,
           12,
           12,
           12,
           12,
           13,
           13,
           13,
           13,
           13,
           14,
           14,
           14,
           14,
           14
          ],
          "target": [
           5,
           6,
           7,
           8,
           9,
           5,
           6,
           7,
           8,
           9,
           5,
           6,
           7,
           8,
           9,
           5,
           6,
           7,
           8,
           9,
           5,
           6,
           7,
           8,
           9,
           10,
           11,
           12,
           13,
           14,
           10,
           11,
           12,
           13,
           14,
           10,
           11,
           12,
           13,
           14,
           10,
           11,
           12,
           13,
           14,
           10,
           11,
           12,
           13,
           14,
           15,
           16,
           17,
           18,
           19,
           15,
           16,
           17,
           18,
           19,
           15,
           16,
           17,
           18,
           19,
           15,
           16,
           17,
           18,
           19,
           15,
           16,
           17,
           18,
           19
          ],
          "value": [
           5111.1,
           755.91,
           837.99,
           9505.44,
           353.16,
           543.69,
           282.87,
           104.31,
           876.51,
           91.26,
           1546.02,
           366.48,
           2007.09,
           4485.24,
           912.06,
           4878.54,
           918,
           1993.77,
           17034.57,
           1509.48,
           29.43,
           27,
           18.63,
           64.17,
           896.4,
           4856.76,
           1613.7,
           689.4,
           4743,
           205.74,
           515.34,
           1255.14,
           57.87,
           394.2,
           127.62,
           619.74,
           148.41,
           1274.67,
           2744.28,
           174.69,
           5033.07,
           2025.81,
           2215.17,
           22261.05,
           430.74,
           49.95,
           123.93,
           288.45,
           196.29,
           3103.74,
           3044.25,
           2170.26,
           808.11,
           4926.06,
           123.39,
           616.05,
           2995.83,
           141.66,
           1179.9,
           233.1,
           275.13,
           139.86,
           1870.83,
           2156.94,
           82.44,
           3693.24,
           3044.43,
           2879.82,
           20418.66,
           276.21,
           108.81,
           204.57,
           118.62,
           286.92,
           3322.53
          ]
         },
         "node": {
          "color": [
           "#ebab34",
           "#f37f6b",
           "#4c7300",
           "#faef7d",
           "#74b3ff",
           "#ebab34",
           "#f37f6b",
           "#4c7300",
           "#faef7d",
           "#74b3ff",
           "#ebab34",
           "#f37f6b",
           "#4c7300",
           "#faef7d",
           "#74b3ff",
           "#ebab34",
           "#f37f6b",
           "#4c7300",
           "#faef7d",
           "#74b3ff"
          ],
          "label": [
           "BAR",
           "URBN",
           "FOR",
           "AGR",
           "WAT",
           "BAR",
           "URBN",
           "FOR",
           "AGR",
           "WAT",
           "BAR",
           "URBN",
           "FOR",
           "AGR",
           "WAT",
           "BAR",
           "URBN",
           "FOR",
           "AGR",
           "WAT"
          ],
          "line": {
           "color": "gray",
           "width": 1
          },
          "pad": 20,
          "thickness": 30
         },
         "type": "sankey"
        }
       ],
       "layout": {
        "annotations": [
         {
          "font": {
           "color": "black",
           "family": "Times New Roman",
           "size": 20
          },
          "showarrow": false,
          "text": "1990",
          "x": 0,
          "y": 1.05
         },
         {
          "font": {
           "color": "black",
           "family": "Times New Roman",
           "size": 20
          },
          "showarrow": false,
          "text": "2000",
          "x": 0.315,
          "y": 1.05
         },
         {
          "font": {
           "color": "black",
           "family": "Times New Roman",
           "size": 20
          },
          "showarrow": false,
          "text": "2010",
          "x": 0.62,
          "y": 1.05
         },
         {
          "font": {
           "color": "black",
           "family": "Times New Roman",
           "size": 20
          },
          "showarrow": false,
          "text": "2020",
          "x": 1,
          "y": 1.05
         }
        ],
        "font": {
         "color": "black",
         "family": "Times New Roman",
         "size": 20
        },
        "height": 800,
        "plot_bgcolor": "white",
        "template": {
         "data": {
          "bar": [
           {
            "error_x": {
             "color": "#2a3f5f"
            },
            "error_y": {
             "color": "#2a3f5f"
            },
            "marker": {
             "line": {
              "color": "#E5ECF6",
              "width": 0.5
             },
             "pattern": {
              "fillmode": "overlay",
              "size": 10,
              "solidity": 0.2
             }
            },
            "type": "bar"
           }
          ],
          "barpolar": [
           {
            "marker": {
             "line": {
              "color": "#E5ECF6",
              "width": 0.5
             },
             "pattern": {
              "fillmode": "overlay",
              "size": 10,
              "solidity": 0.2
             }
            },
            "type": "barpolar"
           }
          ],
          "carpet": [
           {
            "aaxis": {
             "endlinecolor": "#2a3f5f",
             "gridcolor": "white",
             "linecolor": "white",
             "minorgridcolor": "white",
             "startlinecolor": "#2a3f5f"
            },
            "baxis": {
             "endlinecolor": "#2a3f5f",
             "gridcolor": "white",
             "linecolor": "white",
             "minorgridcolor": "white",
             "startlinecolor": "#2a3f5f"
            },
            "type": "carpet"
           }
          ],
          "choropleth": [
           {
            "colorbar": {
             "outlinewidth": 0,
             "ticks": ""
            },
            "type": "choropleth"
           }
          ],
          "contour": [
           {
            "colorbar": {
             "outlinewidth": 0,
             "ticks": ""
            },
            "colorscale": [
             [
              0,
              "#0d0887"
             ],
             [
              0.1111111111111111,
              "#46039f"
             ],
             [
              0.2222222222222222,
              "#7201a8"
             ],
             [
              0.3333333333333333,
              "#9c179e"
             ],
             [
              0.4444444444444444,
              "#bd3786"
             ],
             [
              0.5555555555555556,
              "#d8576b"
             ],
             [
              0.6666666666666666,
              "#ed7953"
             ],
             [
              0.7777777777777778,
              "#fb9f3a"
             ],
             [
              0.8888888888888888,
              "#fdca26"
             ],
             [
              1,
              "#f0f921"
             ]
            ],
            "type": "contour"
           }
          ],
          "contourcarpet": [
           {
            "colorbar": {
             "outlinewidth": 0,
             "ticks": ""
            },
            "type": "contourcarpet"
           }
          ],
          "heatmap": [
           {
            "colorbar": {
             "outlinewidth": 0,
             "ticks": ""
            },
            "colorscale": [
             [
              0,
              "#0d0887"
             ],
             [
              0.1111111111111111,
              "#46039f"
             ],
             [
              0.2222222222222222,
              "#7201a8"
             ],
             [
              0.3333333333333333,
              "#9c179e"
             ],
             [
              0.4444444444444444,
              "#bd3786"
             ],
             [
              0.5555555555555556,
              "#d8576b"
             ],
             [
              0.6666666666666666,
              "#ed7953"
             ],
             [
              0.7777777777777778,
              "#fb9f3a"
             ],
             [
              0.8888888888888888,
              "#fdca26"
             ],
             [
              1,
              "#f0f921"
             ]
            ],
            "type": "heatmap"
           }
          ],
          "heatmapgl": [
           {
            "colorbar": {
             "outlinewidth": 0,
             "ticks": ""
            },
            "colorscale": [
             [
              0,
              "#0d0887"
             ],
             [
              0.1111111111111111,
              "#46039f"
             ],
             [
              0.2222222222222222,
              "#7201a8"
             ],
             [
              0.3333333333333333,
              "#9c179e"
             ],
             [
              0.4444444444444444,
              "#bd3786"
             ],
             [
              0.5555555555555556,
              "#d8576b"
             ],
             [
              0.6666666666666666,
              "#ed7953"
             ],
             [
              0.7777777777777778,
              "#fb9f3a"
             ],
             [
              0.8888888888888888,
              "#fdca26"
             ],
             [
              1,
              "#f0f921"
             ]
            ],
            "type": "heatmapgl"
           }
          ],
          "histogram": [
           {
            "marker": {
             "pattern": {
              "fillmode": "overlay",
              "size": 10,
              "solidity": 0.2
             }
            },
            "type": "histogram"
           }
          ],
          "histogram2d": [
           {
            "colorbar": {
             "outlinewidth": 0,
             "ticks": ""
            },
            "colorscale": [
             [
              0,
              "#0d0887"
             ],
             [
              0.1111111111111111,
              "#46039f"
             ],
             [
              0.2222222222222222,
              "#7201a8"
             ],
             [
              0.3333333333333333,
              "#9c179e"
             ],
             [
              0.4444444444444444,
              "#bd3786"
             ],
             [
              0.5555555555555556,
              "#d8576b"
             ],
             [
              0.6666666666666666,
              "#ed7953"
             ],
             [
              0.7777777777777778,
              "#fb9f3a"
             ],
             [
              0.8888888888888888,
              "#fdca26"
             ],
             [
              1,
              "#f0f921"
             ]
            ],
            "type": "histogram2d"
           }
          ],
          "histogram2dcontour": [
           {
            "colorbar": {
             "outlinewidth": 0,
             "ticks": ""
            },
            "colorscale": [
             [
              0,
              "#0d0887"
             ],
             [
              0.1111111111111111,
              "#46039f"
             ],
             [
              0.2222222222222222,
              "#7201a8"
             ],
             [
              0.3333333333333333,
              "#9c179e"
             ],
             [
              0.4444444444444444,
              "#bd3786"
             ],
             [
              0.5555555555555556,
              "#d8576b"
             ],
             [
              0.6666666666666666,
              "#ed7953"
             ],
             [
              0.7777777777777778,
              "#fb9f3a"
             ],
             [
              0.8888888888888888,
              "#fdca26"
             ],
             [
              1,
              "#f0f921"
             ]
            ],
            "type": "histogram2dcontour"
           }
          ],
          "mesh3d": [
           {
            "colorbar": {
             "outlinewidth": 0,
             "ticks": ""
            },
            "type": "mesh3d"
           }
          ],
          "parcoords": [
           {
            "line": {
             "colorbar": {
              "outlinewidth": 0,
              "ticks": ""
             }
            },
            "type": "parcoords"
           }
          ],
          "pie": [
           {
            "automargin": true,
            "type": "pie"
           }
          ],
          "scatter": [
           {
            "fillpattern": {
             "fillmode": "overlay",
             "size": 10,
             "solidity": 0.2
            },
            "type": "scatter"
           }
          ],
          "scatter3d": [
           {
            "line": {
             "colorbar": {
              "outlinewidth": 0,
              "ticks": ""
             }
            },
            "marker": {
             "colorbar": {
              "outlinewidth": 0,
              "ticks": ""
             }
            },
            "type": "scatter3d"
           }
          ],
          "scattercarpet": [
           {
            "marker": {
             "colorbar": {
              "outlinewidth": 0,
              "ticks": ""
             }
            },
            "type": "scattercarpet"
           }
          ],
          "scattergeo": [
           {
            "marker": {
             "colorbar": {
              "outlinewidth": 0,
              "ticks": ""
             }
            },
            "type": "scattergeo"
           }
          ],
          "scattergl": [
           {
            "marker": {
             "colorbar": {
              "outlinewidth": 0,
              "ticks": ""
             }
            },
            "type": "scattergl"
           }
          ],
          "scattermapbox": [
           {
            "marker": {
             "colorbar": {
              "outlinewidth": 0,
              "ticks": ""
             }
            },
            "type": "scattermapbox"
           }
          ],
          "scatterpolar": [
           {
            "marker": {
             "colorbar": {
              "outlinewidth": 0,
              "ticks": ""
             }
            },
            "type": "scatterpolar"
           }
          ],
          "scatterpolargl": [
           {
            "marker": {
             "colorbar": {
              "outlinewidth": 0,
              "ticks": ""
             }
            },
            "type": "scatterpolargl"
           }
          ],
          "scatterternary": [
           {
            "marker": {
             "colorbar": {
              "outlinewidth": 0,
              "ticks": ""
             }
            },
            "type": "scatterternary"
           }
          ],
          "surface": [
           {
            "colorbar": {
             "outlinewidth": 0,
             "ticks": ""
            },
            "colorscale": [
             [
              0,
              "#0d0887"
             ],
             [
              0.1111111111111111,
              "#46039f"
             ],
             [
              0.2222222222222222,
              "#7201a8"
             ],
             [
              0.3333333333333333,
              "#9c179e"
             ],
             [
              0.4444444444444444,
              "#bd3786"
             ],
             [
              0.5555555555555556,
              "#d8576b"
             ],
             [
              0.6666666666666666,
              "#ed7953"
             ],
             [
              0.7777777777777778,
              "#fb9f3a"
             ],
             [
              0.8888888888888888,
              "#fdca26"
             ],
             [
              1,
              "#f0f921"
             ]
            ],
            "type": "surface"
           }
          ],
          "table": [
           {
            "cells": {
             "fill": {
              "color": "#EBF0F8"
             },
             "line": {
              "color": "white"
             }
            },
            "header": {
             "fill": {
              "color": "#C8D4E3"
             },
             "line": {
              "color": "white"
             }
            },
            "type": "table"
           }
          ]
         },
         "layout": {
          "annotationdefaults": {
           "arrowcolor": "#2a3f5f",
           "arrowhead": 0,
           "arrowwidth": 1
          },
          "autotypenumbers": "strict",
          "coloraxis": {
           "colorbar": {
            "outlinewidth": 0,
            "ticks": ""
           }
          },
          "colorscale": {
           "diverging": [
            [
             0,
             "#8e0152"
            ],
            [
             0.1,
             "#c51b7d"
            ],
            [
             0.2,
             "#de77ae"
            ],
            [
             0.3,
             "#f1b6da"
            ],
            [
             0.4,
             "#fde0ef"
            ],
            [
             0.5,
             "#f7f7f7"
            ],
            [
             0.6,
             "#e6f5d0"
            ],
            [
             0.7,
             "#b8e186"
            ],
            [
             0.8,
             "#7fbc41"
            ],
            [
             0.9,
             "#4d9221"
            ],
            [
             1,
             "#276419"
            ]
           ],
           "sequential": [
            [
             0,
             "#0d0887"
            ],
            [
             0.1111111111111111,
             "#46039f"
            ],
            [
             0.2222222222222222,
             "#7201a8"
            ],
            [
             0.3333333333333333,
             "#9c179e"
            ],
            [
             0.4444444444444444,
             "#bd3786"
            ],
            [
             0.5555555555555556,
             "#d8576b"
            ],
            [
             0.6666666666666666,
             "#ed7953"
            ],
            [
             0.7777777777777778,
             "#fb9f3a"
            ],
            [
             0.8888888888888888,
             "#fdca26"
            ],
            [
             1,
             "#f0f921"
            ]
           ],
           "sequentialminus": [
            [
             0,
             "#0d0887"
            ],
            [
             0.1111111111111111,
             "#46039f"
            ],
            [
             0.2222222222222222,
             "#7201a8"
            ],
            [
             0.3333333333333333,
             "#9c179e"
            ],
            [
             0.4444444444444444,
             "#bd3786"
            ],
            [
             0.5555555555555556,
             "#d8576b"
            ],
            [
             0.6666666666666666,
             "#ed7953"
            ],
            [
             0.7777777777777778,
             "#fb9f3a"
            ],
            [
             0.8888888888888888,
             "#fdca26"
            ],
            [
             1,
             "#f0f921"
            ]
           ]
          },
          "colorway": [
           "#636efa",
           "#EF553B",
           "#00cc96",
           "#ab63fa",
           "#FFA15A",
           "#19d3f3",
           "#FF6692",
           "#B6E880",
           "#FF97FF",
           "#FECB52"
          ],
          "font": {
           "color": "#2a3f5f"
          },
          "geo": {
           "bgcolor": "white",
           "lakecolor": "white",
           "landcolor": "#E5ECF6",
           "showlakes": true,
           "showland": true,
           "subunitcolor": "white"
          },
          "hoverlabel": {
           "align": "left"
          },
          "hovermode": "closest",
          "mapbox": {
           "style": "light"
          },
          "paper_bgcolor": "white",
          "plot_bgcolor": "#E5ECF6",
          "polar": {
           "angularaxis": {
            "gridcolor": "white",
            "linecolor": "white",
            "ticks": ""
           },
           "bgcolor": "#E5ECF6",
           "radialaxis": {
            "gridcolor": "white",
            "linecolor": "white",
            "ticks": ""
           }
          },
          "scene": {
           "xaxis": {
            "backgroundcolor": "#E5ECF6",
            "gridcolor": "white",
            "gridwidth": 2,
            "linecolor": "white",
            "showbackground": true,
            "ticks": "",
            "zerolinecolor": "white"
           },
           "yaxis": {
            "backgroundcolor": "#E5ECF6",
            "gridcolor": "white",
            "gridwidth": 2,
            "linecolor": "white",
            "showbackground": true,
            "ticks": "",
            "zerolinecolor": "white"
           },
           "zaxis": {
            "backgroundcolor": "#E5ECF6",
            "gridcolor": "white",
            "gridwidth": 2,
            "linecolor": "white",
            "showbackground": true,
            "ticks": "",
            "zerolinecolor": "white"
           }
          },
          "shapedefaults": {
           "line": {
            "color": "#2a3f5f"
           }
          },
          "ternary": {
           "aaxis": {
            "gridcolor": "white",
            "linecolor": "white",
            "ticks": ""
           },
           "baxis": {
            "gridcolor": "white",
            "linecolor": "white",
            "ticks": ""
           },
           "bgcolor": "#E5ECF6",
           "caxis": {
            "gridcolor": "white",
            "linecolor": "white",
            "ticks": ""
           }
          },
          "title": {
           "x": 0.05
          },
          "xaxis": {
           "automargin": true,
           "gridcolor": "white",
           "linecolor": "white",
           "ticks": "",
           "title": {
            "standoff": 15
           },
           "zerolinecolor": "white",
           "zerolinewidth": 2
          },
          "yaxis": {
           "automargin": true,
           "gridcolor": "white",
           "linecolor": "white",
           "ticks": "",
           "title": {
            "standoff": 15
           },
           "zerolinecolor": "white",
           "zerolinewidth": 2
          }
         }
        },
        "title": {
         "font": {
          "color": "black",
          "family": "Times New Roman",
          "size": 25
         },
         "text": "Land Use Change Sankey Diagram"
        },
        "width": 1200
       }
      }
     },
     "metadata": {},
     "output_type": "display_data"
    }
   ],
   "source": [
    "# Create Sankey plot\n",
    "fig = go.Figure(go.Sankey(\n",
    "    node=dict(\n",
    "        pad= 20, # Size of vertical space between nodes\n",
    "        thickness= 30, # Size of node\n",
    "        line=dict(color=\"gray\", width=1), # Color and outline thickness of outline node\n",
    "        label=nodes * len(years),  # Repeat labels for each time period\n",
    "        color=node_colors  # Apply the color scheme\n",
    "    ),\n",
    "    link=dict(\n",
    "        source=links['source'],\n",
    "        target=links['target'],\n",
    "        value=links['value'],\n",
    "        color=links['color']  # Apply link colors\n",
    "    )\n",
    "))\n",
    "\n",
    "# Custom layout\n",
    "fig.update_layout(\n",
    "    title_text=\"Land Use Change Sankey Diagram\", \n",
    "        font=dict(family=\"Times New Roman\", size=20, color=\"black\"),\n",
    "        title_font=dict(family=\"Times New Roman\", size=25, color=\"black\"),\n",
    "        plot_bgcolor=\"white\",  # Optional: Set background to white)\n",
    "        height= 800,  # Set height of the plot (in pixels)\n",
    "        width= 1200,  # Set width of the plot (in pixels)\n",
    "        annotations=[\n",
    "            dict(\n",
    "                text=\"1990\", x=0,  y=1.05,  showarrow=False,\n",
    "                font=dict(family=\"Times New Roman\", size=20, color=\"black\")\n",
    "            ),\n",
    "            dict(\n",
    "                text=\"2000\", x=0.315,  y=1.05,  showarrow=False,\n",
    "                font=dict(family=\"Times New Roman\", size=20, color=\"black\")\n",
    "            ),\n",
    "            # Add annotation for the year 2010\n",
    "            dict(\n",
    "                text=\"2010\", x=0.62,  y=1.05,  showarrow=False,\n",
    "                font=dict(family=\"Times New Roman\", size=20, color=\"black\")\n",
    "            ),\n",
    "            # Add annotation for the year 2020\n",
    "            dict(\n",
    "                text=\"2020\", x=1.0,  y=1.05, showarrow=False,\n",
    "                font=dict(family=\"Times New Roman\", size=20, color=\"black\")\n",
    "            ),\n",
    "        ]\n",
    "\n",
    ")\n",
    "fig.show()\n",
    "\n",
    "# Export output as html file - interactive image\n",
    "fig.write_html(\"Sankey_lulcc.html\")\n"
   ]
  }
 ],
 "metadata": {
  "kernelspec": {
   "display_name": "geo",
   "language": "python",
   "name": "python3"
  },
  "language_info": {
   "codemirror_mode": {
    "name": "ipython",
    "version": 3
   },
   "file_extension": ".py",
   "mimetype": "text/x-python",
   "name": "python",
   "nbconvert_exporter": "python",
   "pygments_lexer": "ipython3",
   "version": "3.11.5"
  }
 },
 "nbformat": 4,
 "nbformat_minor": 2
}
